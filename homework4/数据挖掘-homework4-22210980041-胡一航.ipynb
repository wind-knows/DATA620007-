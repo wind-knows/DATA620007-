{
 "cells": [
  {
   "cell_type": "markdown",
   "id": "2703de97",
   "metadata": {},
   "source": [
    "<h1 align=\"center\">数据挖掘-homework4-22210980041-胡一航</h1>"
   ]
  },
  {
   "cell_type": "markdown",
   "id": "879ca822",
   "metadata": {},
   "source": [
    "\n",
    "<h2 >Problem 1：朴素贝叶斯分类器</h2>"
   ]
  },
  {
   "attachments": {
    "image.png": {
     "image/png": "[encoded data removed]"
    }
   },
   "cell_type": "markdown",
   "id": "ee3aeee8",
   "metadata": {},
   "source": [
    "![image.png](attachment:image.png)"
   ]
  },
  {
   "cell_type": "markdown",
   "id": "7092271b",
   "metadata": {},
   "source": [
    "对于给定数据，有$K=2,N=15,S_1=3,S_2=3$"
   ]
  },
  {
   "cell_type": "markdown",
   "id": "8face4ca",
   "metadata": {},
   "source": [
    "<h4 >极大似然估计：</h4>"
   ]
  },
  {
   "cell_type": "markdown",
   "id": "21499f07",
   "metadata": {},
   "source": [
    "先验概率：$$P(Y=1)=\\frac{5}{15}=\\frac{1}{3},P(Y=-1)=\\frac{10}{15}=\\frac{2}{3}$$"
   ]
  },
  {
   "cell_type": "markdown",
   "id": "c0248851",
   "metadata": {},
   "source": [
    "条件概率：\n",
    "\n",
    "\n",
    "$$P(X^{(1)}=1|Y=1)=\\frac{1}{5}, P(X^{(1)}=2|Y=1)=\\frac{3}{5},P(X^{(1)}=3|Y=1)=\\frac{1}{5}$$\n",
    "\n",
    "$$P(X^{(2)}=S|Y=1)=\\frac{1}{5}, P(X^{(2)}=M|Y=1)=\\frac{2}{5},P(X^{(2)}=L|Y=1)=\\frac{2}{5}$$\n",
    "\n",
    "\n",
    "$$P(X^{(1)}=1|Y=-1)=\\frac{1}{5}, P(X^{(1)}=2|Y=-1)=\\frac{1}{5},P(X^{(1)}=3|Y=-1)=\\frac{3}{5}$$\n",
    "\n",
    "$$P(X^{(2)}=S|Y=1)=\\frac{3}{10}, P(X^{(2)}=M|Y=1)=\\frac{2}{5},P(X^{(2)}=L|Y=1)=\\frac{3}{10}$$\n",
    "\n"
   ]
  },
  {
   "cell_type": "markdown",
   "id": "03636685",
   "metadata": {},
   "source": [
    "则有：\n",
    "$$ P(Y=1)P(X^{(1)}=2|Y=1)P(X^{(2)}=M|Y=1)=\\frac{1}{3}\\cdot \\frac{3}{5}\\cdot \\frac{2}{5}=\\frac{6}{75}\n",
    "$$\n",
    "\n",
    "$$ P(Y=-1)P(X^{(1)}=2|Y=-1)P(X^{(2)}=M|Y=-1)=\\frac{2}{3}\\cdot \\frac{1}{5}\\cdot \\frac{2}{5}=\\frac{4}{75}<\\frac{6}{75}\n",
    "$$"
   ]
  },
  {
   "cell_type": "markdown",
   "id": "f8719058",
   "metadata": {},
   "source": [
    "因此估计输出类别为<mark>1</mark>."
   ]
  },
  {
   "cell_type": "markdown",
   "id": "b7097348",
   "metadata": {},
   "source": [
    "<h4 >贝叶斯估计：</h4>"
   ]
  },
  {
   "cell_type": "markdown",
   "id": "31d3defc",
   "metadata": {},
   "source": [
    "先验概率：$$P(Y=1)=\\frac{5+1}{15+2}=\\frac{6}{17},P(Y=-1)=\\frac{10+1}{15+2}=\\frac{11}{17}$$"
   ]
  },
  {
   "cell_type": "markdown",
   "id": "81f602fa",
   "metadata": {},
   "source": [
    "条件概率：\n",
    "\n",
    "\n",
    "$$P(X^{(1)}=1|Y=1)=\\frac{1+1}{5+3}=\\frac{1}{4}, P(X^{(1)}=2|Y=1)=\\frac{3+1}{5+3}=\\frac{1}{2},P(X^{(1)}=3|Y=1)=\\frac{1+1}{5+3}=\\frac{1}{4}$$\n",
    "\n",
    "$$P(X^{(2)}=S|Y=1)=\\frac{1+1}{5+3}=\\frac{1}{4}, P(X^{(2)}=M|Y=1)=\\frac{2+1}{5+3}=\\frac{3}{8},P(X^{(2)}=L|Y=1)=\\frac{2+1}{5+3}=\\frac{3}{8}$$\n",
    "\n",
    "\n",
    "$$P(X^{(1)}=1|Y=-1)=\\frac{2+1}{10+3}=\\frac{3}{13}, P(X^{(1)}=2|Y=-1)=\\frac{2+1}{10+3}=\\frac{3}{13},P(X^{(1)}=3|Y=-1)=\\frac{6+1}{10+3}=\\frac{7}{13}$$\n",
    "\n",
    "$$P(X^{(2)}=S|Y=1)=\\frac{3+1}{10+3}=\\frac{4}{13}, P(X^{(2)}=M|Y=1)=\\frac{4+1}{10+3}=\\frac{5}{13},P(X^{(2)}=L|Y=1)=\\frac{3+1}{10+3}=\\frac{4}{13}$$\n"
   ]
  },
  {
   "cell_type": "markdown",
   "id": "8286e834",
   "metadata": {},
   "source": [
    "则有：\n",
    "$$ P(Y=1)P(X^{(1)}=2|Y=1)P(X^{(2)}=M|Y=1)=\\frac{6}{17}\\cdot \\frac{1}{2}\\cdot \\frac{3}{8}=\\frac{9}{136}\\approx 0.0661\n",
    "$$\n",
    "\n",
    "$$ P(Y=-1)P(X^{(1)}=2|Y=-1)P(X^{(2)}=M|Y=-1)=\\frac{11}{17}\\cdot \\frac{3}{13}\\cdot \\frac{5}{13}=\\frac{165}{2873}  \\approx 0.0574 < 0.0661\n",
    "$$"
   ]
  },
  {
   "cell_type": "markdown",
   "id": "e88d90fa",
   "metadata": {},
   "source": [
    "因此估计输出类别为<mark>1</mark>.\n",
    "\n",
    "---"
   ]
  },
  {
   "cell_type": "markdown",
   "id": "e050b546",
   "metadata": {},
   "source": [
    "\n",
    "<h2 >Problem 2：基于商品名称的自动化分类数据分析</h2>"
   ]
  },
  {
   "cell_type": "code",
   "execution_count": 1,
   "id": "dfc15ab7",
   "metadata": {},
   "outputs": [],
   "source": [
    "import pandas as pd \n",
    "import numpy as np\n",
    "import matplotlib.pyplot as plt \n",
    "import seaborn as sns\n",
    "#解决中文显示问题\n",
    "plt.rcParams['font.sans-serif'] = ['SimHei']   \n",
    "plt.rcParams['axes.unicode_minus'] = False    \n",
    "import jieba\n",
    "import wordcloud\n",
    "from sklearn.feature_extraction.text import CountVectorizer\n",
    "import sklearn.naive_bayes as nb\n",
    "from sklearn.metrics import accuracy_score,confusion_matrix\n",
    "import random"
   ]
  },
  {
   "cell_type": "markdown",
   "id": "0bf00887",
   "metadata": {},
   "source": [
    "<h4>1. 设置好工作路径，找到数据集 catalogs.csv。该数据里面包含每个商品的名称以及对应的一二三级分类。读入该数据，命名为 catalog。然后，使用head()函数查看数据的基本形式。</h4>\n"
   ]
  },
  {
   "cell_type": "code",
   "execution_count": 2,
   "id": "1f026e81",
   "metadata": {},
   "outputs": [
    {
     "data": {
      "text/html": [
       "<div>\n",
       "<style scoped>\n",
       "    .dataframe tbody tr th:only-of-type {\n",
       "        vertical-align: middle;\n",
       "    }\n",
       "\n",
       "    .dataframe tbody tr th {\n",
       "        vertical-align: top;\n",
       "    }\n",
       "\n",
       "    .dataframe thead th {\n",
       "        text-align: right;\n",
       "    }\n",
       "</style>\n",
       "<table border=\"1\" class=\"dataframe\">\n",
       "  <thead>\n",
       "    <tr style=\"text-align: right;\">\n",
       "      <th></th>\n",
       "      <th>name</th>\n",
       "      <th>first</th>\n",
       "      <th>second</th>\n",
       "      <th>third</th>\n",
       "    </tr>\n",
       "  </thead>\n",
       "  <tbody>\n",
       "    <tr>\n",
       "      <th>0</th>\n",
       "      <td>双汇 猪舌 700g/袋</td>\n",
       "      <td>生鲜</td>\n",
       "      <td>猪牛羊肉</td>\n",
       "      <td>猪肉</td>\n",
       "    </tr>\n",
       "    <tr>\n",
       "      <th>1</th>\n",
       "      <td>（满38减10）黑猪腊肉 湘西腊肉 即食小吃食猪肉干肉脯湖南张家界土家 香辣味</td>\n",
       "      <td>生鲜</td>\n",
       "      <td>猪牛羊肉</td>\n",
       "      <td>猪肉</td>\n",
       "    </tr>\n",
       "    <tr>\n",
       "      <th>2</th>\n",
       "      <td>精气神 猪肋排段（排骨） 400g/袋 山黑猪  黑猪肉 林间散养</td>\n",
       "      <td>生鲜</td>\n",
       "      <td>猪牛羊肉</td>\n",
       "      <td>猪肉</td>\n",
       "    </tr>\n",
       "    <tr>\n",
       "      <th>3</th>\n",
       "      <td>双汇 猪五花肉片 300g/袋 整肉原切 火锅食材</td>\n",
       "      <td>生鲜</td>\n",
       "      <td>猪牛羊肉</td>\n",
       "      <td>猪肉</td>\n",
       "    </tr>\n",
       "    <tr>\n",
       "      <th>4</th>\n",
       "      <td>农家散养新鲜现杀黑土猪肉 纯瘦肉  500g</td>\n",
       "      <td>生鲜</td>\n",
       "      <td>猪牛羊肉</td>\n",
       "      <td>猪肉</td>\n",
       "    </tr>\n",
       "  </tbody>\n",
       "</table>\n",
       "</div>"
      ],
      "text/plain": [
       "                                      name first second third\n",
       "0                             双汇 猪舌 700g/袋    生鲜   猪牛羊肉    猪肉\n",
       "1  （满38减10）黑猪腊肉 湘西腊肉 即食小吃食猪肉干肉脯湖南张家界土家 香辣味    生鲜   猪牛羊肉    猪肉\n",
       "2        精气神 猪肋排段（排骨） 400g/袋 山黑猪  黑猪肉 林间散养    生鲜   猪牛羊肉    猪肉\n",
       "3                双汇 猪五花肉片 300g/袋 整肉原切 火锅食材    生鲜   猪牛羊肉    猪肉\n",
       "4                   农家散养新鲜现杀黑土猪肉 纯瘦肉  500g    生鲜   猪牛羊肉    猪肉"
      ]
     },
     "execution_count": 2,
     "metadata": {},
     "output_type": "execute_result"
    }
   ],
   "source": [
    "catalog = pd.read_csv('data/catalogs.csv').astype(str) \n",
    "catalog.head()"
   ]
  },
  {
   "cell_type": "markdown",
   "id": "66570fcc",
   "metadata": {},
   "source": [
    "按照要求读取数据。\n",
    "\n",
    "可以看到数据的基本形式是 姓名，第一级分类，第二级分类，第三集分类。"
   ]
  },
  {
   "cell_type": "code",
   "execution_count": 3,
   "id": "54dd48c2",
   "metadata": {
    "scrolled": true
   },
   "outputs": [
    {
     "name": "stdout",
     "output_type": "stream",
     "text": [
      "<class 'pandas.core.frame.DataFrame'>\n",
      "RangeIndex: 69494 entries, 0 to 69493\n",
      "Data columns (total 4 columns):\n",
      " #   Column  Non-Null Count  Dtype \n",
      "---  ------  --------------  ----- \n",
      " 0   name    69494 non-null  object\n",
      " 1   first   69494 non-null  object\n",
      " 2   second  69494 non-null  object\n",
      " 3   third   69494 non-null  object\n",
      "dtypes: object(4)\n",
      "memory usage: 2.1+ MB\n"
     ]
    }
   ],
   "source": [
    "catalog.info()"
   ]
  },
  {
   "cell_type": "code",
   "execution_count": 4,
   "id": "5c87daf3",
   "metadata": {},
   "outputs": [
    {
     "data": {
      "text/html": [
       "<div>\n",
       "<style scoped>\n",
       "    .dataframe tbody tr th:only-of-type {\n",
       "        vertical-align: middle;\n",
       "    }\n",
       "\n",
       "    .dataframe tbody tr th {\n",
       "        vertical-align: top;\n",
       "    }\n",
       "\n",
       "    .dataframe thead th {\n",
       "        text-align: right;\n",
       "    }\n",
       "</style>\n",
       "<table border=\"1\" class=\"dataframe\">\n",
       "  <thead>\n",
       "    <tr style=\"text-align: right;\">\n",
       "      <th></th>\n",
       "      <th>name</th>\n",
       "      <th>first</th>\n",
       "      <th>second</th>\n",
       "      <th>third</th>\n",
       "    </tr>\n",
       "  </thead>\n",
       "  <tbody>\n",
       "  </tbody>\n",
       "</table>\n",
       "</div>"
      ],
      "text/plain": [
       "Empty DataFrame\n",
       "Columns: [name, first, second, third]\n",
       "Index: []"
      ]
     },
     "execution_count": 4,
     "metadata": {},
     "output_type": "execute_result"
    }
   ],
   "source": [
    "catalog[catalog.isnull().T.any()] # 查看有空值的行"
   ]
  },
  {
   "cell_type": "code",
   "execution_count": 5,
   "id": "03b354ec",
   "metadata": {},
   "outputs": [],
   "source": [
    "catalog = catalog.dropna(axis=0) # 删除有空值的行"
   ]
  },
  {
   "cell_type": "code",
   "execution_count": 6,
   "id": "8445663e",
   "metadata": {},
   "outputs": [
    {
     "name": "stdout",
     "output_type": "stream",
     "text": [
      "<class 'pandas.core.frame.DataFrame'>\n",
      "RangeIndex: 69494 entries, 0 to 69493\n",
      "Data columns (total 4 columns):\n",
      " #   Column  Non-Null Count  Dtype \n",
      "---  ------  --------------  ----- \n",
      " 0   name    69494 non-null  object\n",
      " 1   first   69494 non-null  object\n",
      " 2   second  69494 non-null  object\n",
      " 3   third   69494 non-null  object\n",
      "dtypes: object(4)\n",
      "memory usage: 2.1+ MB\n"
     ]
    }
   ],
   "source": [
    "catalog.info()"
   ]
  },
  {
   "cell_type": "markdown",
   "id": "d4ac397e",
   "metadata": {},
   "source": [
    "写上面这段是为了去除有空值的列表，比较抽象的是我前一天写代码的时候有一条数据是空值，但是第二天没有空值了。  \n",
    "就不删了。"
   ]
  },
  {
   "cell_type": "markdown",
   "id": "64a48835",
   "metadata": {},
   "source": [
    "\n",
    "<h4>2. 数据中包含两个一级品类，即“生鲜”和“食品饮料、保健食品”。请使用 R 中的饼状图对每个一级品类下的各个二级品类的分布情况进行描述分析，并进行文字解读。</h4>\n"
   ]
  },
  {
   "cell_type": "code",
   "execution_count": 7,
   "id": "4d9f5ea2",
   "metadata": {},
   "outputs": [
    {
     "data": {
      "text/plain": [
       "array(['生鲜', '食品饮料、保健食品'], dtype=object)"
      ]
     },
     "execution_count": 7,
     "metadata": {},
     "output_type": "execute_result"
    }
   ],
   "source": [
    "catalog['first'].unique()"
   ]
  },
  {
   "cell_type": "markdown",
   "id": "6d4ec24a",
   "metadata": {},
   "source": [
    "数据中包含两个一级品类，即“生鲜”和“食品饮料、保健食品”。下面查看各一级品类的组成。"
   ]
  },
  {
   "cell_type": "code",
   "execution_count": 8,
   "id": "9290d143",
   "metadata": {},
   "outputs": [
    {
     "data": {
      "text/plain": [
       "水果      5635\n",
       "蔬菜      5006\n",
       "海鲜水产    4697\n",
       "禽肉蛋品    1920\n",
       "猪牛羊肉    1829\n",
       "冷冻食品    1088\n",
       "饮品甜品     349\n",
       "Name: second, dtype: int64"
      ]
     },
     "execution_count": 8,
     "metadata": {},
     "output_type": "execute_result"
    }
   ],
   "source": [
    "pie_data1 = catalog[catalog['first'] == '生鲜']['second'].value_counts()\n",
    "pie_data1 "
   ]
  },
  {
   "cell_type": "code",
   "execution_count": 9,
   "id": "59d95cb9",
   "metadata": {
    "scrolled": true
   },
   "outputs": [
    {
     "data": {
      "text/plain": [
       "地方特产    12577\n",
       "茗茶      12508\n",
       "粮油调味    10288\n",
       "休闲食品     6811\n",
       "饮料冲调     4865\n",
       "食品礼券     1921\n",
       "Name: second, dtype: int64"
      ]
     },
     "execution_count": 9,
     "metadata": {},
     "output_type": "execute_result"
    }
   ],
   "source": [
    "pie_data2 = catalog[catalog['first'] == '食品饮料、保健食品']['second'].value_counts()\n",
    "pie_data2 "
   ]
  },
  {
   "cell_type": "code",
   "execution_count": 10,
   "id": "f43fd69c",
   "metadata": {},
   "outputs": [
    {
     "data": {
      "image/png": "[encoded data removed]",
      "text/plain": [
       "<Figure size 1000x400 with 2 Axes>"
      ]
     },
     "metadata": {},
     "output_type": "display_data"
    }
   ],
   "source": [
    "fig = plt.figure(figsize = (10,4))\n",
    "\n",
    "ax1 = fig.add_subplot(121)\n",
    "plt.pie(pie_data1,labels = pie_data1.index, autopct='%5.2f%%' )\n",
    "plt.title('生鲜') \n",
    "\n",
    "ax2 = fig.add_subplot(122)\n",
    "plt.pie(pie_data2,labels = pie_data2.index, autopct='%5.2f%%' )\n",
    "plt.title( '食品饮料、保健食品')      \n",
    "\n",
    "plt.show()"
   ]
  },
  {
   "cell_type": "markdown",
   "id": "c3e82969",
   "metadata": {},
   "source": [
    "饼状图直观地显示了两个一级品类的组成。\n",
    "\n",
    "生鲜地的一级品类下，水果、蔬菜和海鲜水产占比最高。  \n",
    "食品饮料、保健食品的一级品类下，地方特产、茗茶和粮油调味占比最高。\n",
    "\n"
   ]
  },
  {
   "cell_type": "markdown",
   "id": "09ed0bb6",
   "metadata": {},
   "source": [
    "\n",
    "<h4>3. 利用分词工具对一级品类为“生鲜”的数据进行分词处理，并做出来分词后的词云图</h4>\n"
   ]
  },
  {
   "cell_type": "code",
   "execution_count": 11,
   "id": "5f081422",
   "metadata": {},
   "outputs": [
    {
     "name": "stderr",
     "output_type": "stream",
     "text": [
      "Building prefix dict from the default dictionary ...\n",
      "Loading model from cache C:\\Users\\HONOR\\AppData\\Local\\Temp\\jieba.cache\n",
      "Loading model cost 0.331 seconds.\n",
      "Prefix dict has been built successfully.\n"
     ]
    }
   ],
   "source": [
    "fresh = catalog[catalog['first'] == '生鲜']\n",
    "fresh_name = fresh['name']\n",
    "fresh_names_words = []\n",
    "\n",
    "for name in fresh_name:\n",
    "    fresh_names_words += (jieba.lcut(name)[:])"
   ]
  },
  {
   "cell_type": "markdown",
   "id": "000d7253",
   "metadata": {},
   "source": [
    "初步分词。"
   ]
  },
  {
   "cell_type": "code",
   "execution_count": 12,
   "id": "c0b28abf",
   "metadata": {},
   "outputs": [],
   "source": [
    "# 根据分词结果调整的停用词\n",
    "fresh_stopwords = ['kg','g'] \n",
    "\n",
    "# 用一个字典来统计出现的词汇和频数\n",
    "fresh_counts = {}\n",
    "for word in fresh_names_words:  \n",
    "    if len(word) == 1:  # 筛去长度为1的词汇\n",
    "        continue \n",
    "    elif word.isdigit(): # 筛去纯数字\n",
    "        continue\n",
    "    elif word in fresh_stopwords: # 筛去停用词\n",
    "        continue\n",
    "    else:  \n",
    "        fresh_counts[word] = fresh_counts.get(word,0) + 1  \n",
    "fresh_items = list(fresh_counts.items())  \n",
    "fresh_items.sort(key=lambda x:x[1], reverse=True)  \n",
    "# 对结果进行排序"
   ]
  },
  {
   "cell_type": "code",
   "execution_count": 13,
   "id": "a1f81fd6",
   "metadata": {
    "scrolled": true
   },
   "outputs": [
    {
     "name": "stdout",
     "output_type": "stream",
     "text": [
      "生鲜商品数： 20524\n",
      "提取分词数： 13338\n"
     ]
    }
   ],
   "source": [
    "print('生鲜商品数：',len(fresh))\n",
    "print('提取分词数：',len(fresh_items))"
   ]
  },
  {
   "cell_type": "code",
   "execution_count": 14,
   "id": "92e906a7",
   "metadata": {},
   "outputs": [
    {
     "name": "stdout",
     "output_type": "stream",
     "text": [
      "新鲜          11027   水果           4970   海鲜           3128   蔬菜           2573   500g         2447 食材           2170   \n",
      "生鲜           2028   特产           1948   火锅           1773   苹果           1726   冷冻           1692   2.5          1481  \n",
      "水产           1472   礼盒           1375   进口           1359   干货           1359   野生           1312   农家           1222   \n",
      "即食           1134   斤装           1134   单果           1124   烧烤           1116   牛肉            920   袋装            807   \n",
      "礼盒装           784  云南            777   1kg           773  250g          762 鲜品            757   鲜活            722   \n"
     ]
    }
   ],
   "source": [
    "fresh_result='' #最后用来画图的字符串\n",
    "for i in range(30):  \n",
    "    word, count = fresh_items[i]\n",
    "    for j in range(count):\n",
    "        fresh_result += ' ' + word\n",
    "    print (\"{:<10}{:>7}\".format(word, count),end = ' '*(5-len(word)))\n",
    "    if (i+1) % 6 == 0: print('')"
   ]
  },
  {
   "cell_type": "markdown",
   "id": "bd9ca400",
   "metadata": {},
   "source": [
    "展示出现频率排名前30的词汇。"
   ]
  },
  {
   "cell_type": "code",
   "execution_count": 15,
   "id": "e514d625",
   "metadata": {},
   "outputs": [
    {
     "data": {
      "image/png": "[encoded data removed]",
      "text/plain": [
       "<Figure size 640x480 with 1 Axes>"
      ]
     },
     "metadata": {},
     "output_type": "display_data"
    }
   ],
   "source": [
    "w=wordcloud.WordCloud(font_path='msyh.ttc',\n",
    "                      background_color='white',\n",
    "                      collocations=False,\n",
    "                      margin=2,\n",
    "                      max_font_size=200,\n",
    "                      max_words=200,\n",
    "                      scale=5,\n",
    "                      width=1200,\n",
    "                      height=600,\n",
    "                      font_step=1)\n",
    "w.generate(fresh_result)\n",
    "plt.imshow(w)\n",
    "plt.axis('off')\n",
    "plt.title('生鲜品类词云图')\n",
    "plt.show()"
   ]
  },
  {
   "cell_type": "markdown",
   "id": "660b850e",
   "metadata": {},
   "source": [
    "<h4>4. 对一级品类为“食品饮料、保健食品”的数据分词结果进行建模前的预处理（参考代码课上的各种预处理操作）  </h4><h4>5. 将上一步得到的预处理后的数据按照 8:2 的方式划分训练集和测试集，在训练集上建立朴素贝叶斯模型并在测试集上评估模型的效果并解读模型结果（参考代码课上的建模过程）</h4>"
   ]
  },
  {
   "cell_type": "markdown",
   "id": "55d369d8",
   "metadata": {},
   "source": [
    "\n",
    "这两问的关系比较紧密，我过程分的不是很清楚，因此放在一起。"
   ]
  },
  {
   "cell_type": "code",
   "execution_count": 16,
   "id": "98287c1c",
   "metadata": {},
   "outputs": [],
   "source": [
    "np.random.seed(123)\n",
    "random.seed(123)"
   ]
  },
  {
   "cell_type": "markdown",
   "id": "4b289258",
   "metadata": {},
   "source": [
    "设置一个随机种子。"
   ]
  },
  {
   "cell_type": "code",
   "execution_count": 17,
   "id": "53272edf",
   "metadata": {},
   "outputs": [
    {
     "name": "stdout",
     "output_type": "stream",
     "text": [
      "48970\n",
      "[list(['卓玛泉', '西藏', '冰川', '饮用', '天然水', '12l', '碱性', '分子', '母婴', '饮用水', '家庭', '桶装水', '饮用水', '矿泉水', '苏打水', '会员', '专拍'])\n",
      " list(['怡宝', '饮用水', '饮用', '纯净水', '1.555', '整箱'])\n",
      " list(['名仁', '苏打水', '饮料', '无糖', '汽弱', '碱性', '375ml', '整箱'])\n",
      " list(['雀巢', 'nestle', '优活', '饮用水', '330ml', '整箱'])\n",
      " list(['农夫山泉', '饮用', '天然水', '4l'])]\n"
     ]
    }
   ],
   "source": [
    "food = catalog[catalog['first'] == '食品饮料、保健食品'].reset_index(drop = True)\n",
    "\n",
    "def preprocess(item):\n",
    "    \"\"\"\n",
    "    用来对food['name']进行预处理的函数\n",
    "    流程是：将name全变为小写 --> 结巴分词 --> 筛掉词汇长小于1的词 --> 筛掉全数字的词 --> 筛掉停用词\n",
    "    \"\"\"\n",
    "    food_stopwords = ['kg','g']\n",
    "    item = str(item)\n",
    "    tem = jieba.lcut(item.lower())[:]\n",
    "    tem = list(filter(lambda x: len(x) > 1 and not x.isdigit() and x not in food_stopwords,tem))\n",
    "    return tem\n",
    "\n",
    "x = food['name'].apply(preprocess).values # 预处理，并转为array\n",
    "\n",
    "print(len(x))\n",
    "print(x[:5])"
   ]
  },
  {
   "cell_type": "markdown",
   "id": "62876aa5",
   "metadata": {},
   "source": [
    "我们对一级品类为“食品饮料、保健食品”的名称数据进行简单的初步处理。\n",
    "\n",
    "处理流程为：将name全变为小写 --> 结巴分词 --> 筛掉词汇长小于1的词 --> 筛掉全数字的词 --> 筛掉停用词\n",
    "\n",
    "然后将数据转化为array,每一个分量为包含一条数据预处理结果的list。有48970条数据，格式展览如上。"
   ]
  },
  {
   "cell_type": "code",
   "execution_count": 18,
   "id": "993f0916",
   "metadata": {},
   "outputs": [
    {
     "data": {
      "text/plain": [
       "array([0, 0, 0, ..., 3, 3, 5], dtype=int64)"
      ]
     },
     "execution_count": 18,
     "metadata": {},
     "output_type": "execute_result"
    }
   ],
   "source": [
    "food_second_map ={}  # 生成处理label所需的映射字典\n",
    "i = 0 \n",
    "for item in food['second'].unique():\n",
    "    food_second_map[item] = i\n",
    "    i += 1\n",
    "    \n",
    "y = food['second'].apply(lambda x:food_second_map[x]).values\n",
    "y"
   ]
  },
  {
   "cell_type": "markdown",
   "id": "1b12eed1",
   "metadata": {},
   "source": [
    "我们将一级品类为“食品饮料、保健食品”的数据的二级类别转化为数字标签。"
   ]
  },
  {
   "cell_type": "code",
   "execution_count": 19,
   "id": "67d6a749",
   "metadata": {},
   "outputs": [],
   "source": [
    "\n",
    "\n",
    "def data_split(full_list, ratio, shuffle=False):\n",
    "    \"\"\"\n",
    "    数据集拆分: 将列表full_list按比例ratio（随机）划分为2个子列表sublist_1与sublist_2\n",
    "    :param full_list: 数据列表\n",
    "    :param ratio:     子列表1所占比例\n",
    "    :param shuffle:   是否洗牌\n",
    "    :return: 子列表1,子列表2\n",
    "    \"\"\"\n",
    "    n_total = len(full_list)\n",
    "    offset = int(n_total * ratio)\n",
    "    if n_total == 0 or offset < 1:\n",
    "        return [], full_list\n",
    "    if shuffle:\n",
    "        random.shuffle(full_list)\n",
    "    sublist_1 = full_list[:offset]\n",
    "    sublist_2 = full_list[offset:]\n",
    "    return sublist_1, sublist_2"
   ]
  },
  {
   "cell_type": "markdown",
   "id": "d4354743",
   "metadata": {},
   "source": [
    "写一个函数，功能是为了完成list的拆分，目的是为了后续方便我们划分训练集和测试集。"
   ]
  },
  {
   "cell_type": "code",
   "execution_count": 20,
   "id": "821191f5",
   "metadata": {},
   "outputs": [],
   "source": [
    "train_index,test_index = data_split(list(range(len(x))), 0.8, shuffle=True)"
   ]
  },
  {
   "cell_type": "markdown",
   "id": "30562476",
   "metadata": {},
   "source": [
    "训练集的index和测试集的index。"
   ]
  },
  {
   "cell_type": "code",
   "execution_count": 21,
   "id": "ed354cd1",
   "metadata": {},
   "outputs": [
    {
     "name": "stdout",
     "output_type": "stream",
     "text": [
      "39176\n"
     ]
    }
   ],
   "source": [
    "x_train = x[train_index]\n",
    "print(len(x_train))"
   ]
  },
  {
   "cell_type": "markdown",
   "id": "c037a742",
   "metadata": {},
   "source": [
    "训练数据，值得指出的是，这里的训练数据是用来提取top词汇的数据，不是用到贝叶斯模型的数据，  \n",
    "贝叶斯模型的输入数据仍需进一步处理。"
   ]
  },
  {
   "cell_type": "code",
   "execution_count": 22,
   "id": "5fe5705d",
   "metadata": {},
   "outputs": [
    {
     "name": "stdout",
     "output_type": "stream",
     "text": [
      "[('特产', 10666), ('零食', 8644), ('茶叶', 6572), ('500g', 4633), ('休闲', 4278)]\n",
      "[('枣泥', 74), ('凉粉', 74), ('女士', 74), ('世纪', 74), ('黑胡椒', 73)]\n"
     ]
    }
   ],
   "source": [
    "def get_top_n(data,n,low_freq,high_ratio):\n",
    "    \"\"\"\n",
    "    获取数据集中出现的高频词汇: \n",
    "    :param data: 经过初步处理的数据，每个数据为一句话分词后的结果(list)\n",
    "    :param n: 获取top n 如果n大于总词汇数，则令 n = 总词汇数\n",
    "    :param low_freq： 出现次数低于low_freq的词汇会被舍弃\n",
    "    :param high_ratio:   出现频率大于等于high_ratio的词汇会被舍弃\n",
    "    :return: 一个字典,键为top n 的词汇,值为该词汇在数据集中出现的字数\n",
    "    \"\"\"\n",
    "    # 统计数据中出现的词汇\n",
    "    data_counts = {}\n",
    "    for word_list in data:\n",
    "        for word in word_list:\n",
    "            data_counts[word] =  data_counts.get(word,0) + 1  \n",
    "    # 进行筛选\n",
    "    data_items = list(data_counts.items())\n",
    "    data_items = list(filter(lambda x:x[1]>= low_freq and x[1] <= len(data) * high_ratio ,data_items))\n",
    "    data_items.sort(key=lambda x:x[1], reverse=True)\n",
    "    # 得到出现次数最高的top词汇\n",
    "    data_top = {}\n",
    "    if n > len(data_items):\n",
    "        print('筛选后的分词数为{},少于输入的top_n'.format(len(data_items)))\n",
    "        \n",
    "    for i in range(min(n,len(data_items))):\n",
    "        word,count = data_items[i]\n",
    "        data_top[word] = count\n",
    "        \n",
    "    return data_top\n",
    "\n",
    "x_train_top = get_top_n(x_train,1000,10,0.8)  \n",
    "print(list(x_train_top.items())[:5])\n",
    "print(list(x_train_top.items())[-5:])"
   ]
  },
  {
   "cell_type": "markdown",
   "id": "6924e8c5",
   "metadata": {},
   "source": [
    "用来获取数据集中出现的高频词汇的函数。\n",
    "\n",
    "我们现在得到了字典x_train_top,键为top_n的词汇（这里n为1000）,值为该词汇在数据集中出现的字数。\n",
    "\n",
    "我展示了排行top1000的词汇中的前五个和后五个以及他们出现的频数。  \n",
    "可以看到，第1名的词汇出现频率约为25%,1000名左右的词汇的频数远大于10.\n",
    "\n",
    "---"
   ]
  },
  {
   "cell_type": "markdown",
   "id": "b6f9822c",
   "metadata": {},
   "source": [
    "下面给出一些分词结果的分析(这些分析得到的过程需要拆解上面的函数，查看data_counts,data_items之类的)  \n",
    "为了报告的简介(虽然已经很不简洁了）,就不在这列出过程了\n",
    "\n",
    "- 最高频的词汇(\"特产\")也没有超过75%的出现率（甚至只有27%左右）\n",
    "- 这里没有展示，但是大概有5000+的词汇出现次数大于10次。\n",
    "- 结合上面两条，也即我们规定的low_freq,high_ratio对于当前的参数组合并没有筛选掉键值对\n",
    "- 我没有去除数字字母组合，比如没有去除'500g'这种描述，因为我认为这种也蕴藏一定的商品信息\n",
    "- 大概有5000+的词汇出现次数大于10次，也即上函数中的len(data_items)。\n",
    "\n",
    "---"
   ]
  },
  {
   "cell_type": "code",
   "execution_count": 23,
   "id": "27ee944c",
   "metadata": {},
   "outputs": [
    {
     "name": "stdout",
     "output_type": "stream",
     "text": [
      "['西藏 饮用 天然水 碱性 饮用水 家庭 饮用水 矿泉水 苏打水', '饮用水 饮用 纯净水 整箱', '苏打水 饮料 无糖 碱性 整箱', '雀巢 nestle 饮用水 330ml 整箱', '农夫山泉 饮用 天然水 4l']\n"
     ]
    }
   ],
   "source": [
    "data_cut_words = []\n",
    "for word_list in x:\n",
    "    tem = list(filter(lambda x:x in x_train_top.keys(),word_list)) # 筛选出数据中在top_n词汇的词汇\n",
    "    tem =  [str(item) for item in tem] \n",
    "    data_cut_words.append(' '.join(tem)) # 转化为 CountVectorizer 所需的形式\n",
    "print(data_cut_words[:5])"
   ]
  },
  {
   "cell_type": "markdown",
   "id": "61d60196",
   "metadata": {},
   "source": [
    "根据我们从训练数据中得到的top_n词汇对我们的原数据进行加工，并转变为后续需要的格式。"
   ]
  },
  {
   "cell_type": "code",
   "execution_count": 24,
   "id": "4140f082",
   "metadata": {},
   "outputs": [
    {
     "data": {
      "text/plain": [
       "array([[0, 0, 0, ..., 0, 0, 0],\n",
       "       [0, 0, 0, ..., 0, 0, 0],\n",
       "       [0, 0, 0, ..., 0, 0, 0],\n",
       "       ...,\n",
       "       [0, 0, 0, ..., 0, 1, 0],\n",
       "       [0, 0, 0, ..., 0, 0, 0],\n",
       "       [0, 0, 0, ..., 0, 0, 0]], dtype=int64)"
      ]
     },
     "execution_count": 24,
     "metadata": {},
     "output_type": "execute_result"
    }
   ],
   "source": [
    "cv = CountVectorizer(token_pattern='\\\\b(\\\\w+[\\\\.,]?\\\\w+)\\\\b')\n",
    "cv_fit = cv.fit_transform(data_cut_words)\n",
    "x_final = cv_fit.toarray()\n",
    "x_final"
   ]
  },
  {
   "cell_type": "markdown",
   "id": "f763e6a9",
   "metadata": {},
   "source": [
    "将上文结果转换为文档-词频矩阵，上正则表达式是为了识别形如“1.5”“2.6”形式的词汇。\n",
    "\n",
    "这个文档-词频矩阵的形式也就是我们最终输入朴素贝叶斯模型的形式。"
   ]
  },
  {
   "cell_type": "code",
   "execution_count": 25,
   "id": "7fcc9f24",
   "metadata": {
    "scrolled": false
   },
   "outputs": [
    {
     "name": "stdout",
     "output_type": "stream",
     "text": [
      "平均每个名称含有top100词汇的个数： 8.58323463344905\n",
      "在数据集top100词汇平均的出现次数： 420.321\n"
     ]
    }
   ],
   "source": [
    "print('平均每个名称含有top100词汇的个数：',np.mean(np.sum(x_final,axis=1)))\n",
    "print('在数据集top100词汇平均的出现次数：',np.mean(np.sum(x_final,axis=0)))\n"
   ]
  },
  {
   "cell_type": "markdown",
   "id": "fa5917ec",
   "metadata": {},
   "source": [
    "$48970 * 8.6 \\approx 1000 * 420 $ 很合理"
   ]
  },
  {
   "cell_type": "code",
   "execution_count": 26,
   "id": "3b3342e1",
   "metadata": {},
   "outputs": [],
   "source": [
    "x_train = x_final[train_index]\n",
    "y_train = y[train_index].reshape(-1)\n",
    "\n",
    "x_test = x_final[test_index]\n",
    "y_test = y[test_index].reshape(-1)"
   ]
  },
  {
   "cell_type": "markdown",
   "id": "eed37ccf",
   "metadata": {},
   "source": [
    "得到最终的训练数据和测试数据。"
   ]
  },
  {
   "cell_type": "code",
   "execution_count": 27,
   "id": "8cd5adbe",
   "metadata": {},
   "outputs": [],
   "source": [
    "model = nb.MultinomialNB(alpha=1,fit_prior=True) # MultinomialNB 多项分布朴素贝叶斯\n",
    "model.fit(x_train, y_train)\n",
    "pred_y_test = model.predict(x_test)"
   ]
  },
  {
   "cell_type": "markdown",
   "id": "87378147",
   "metadata": {},
   "source": [
    "建模拟合和预测。"
   ]
  },
  {
   "cell_type": "code",
   "execution_count": 28,
   "id": "68d118bc",
   "metadata": {},
   "outputs": [
    {
     "data": {
      "text/plain": [
       "0.8619562997753727"
      ]
     },
     "execution_count": 28,
     "metadata": {},
     "output_type": "execute_result"
    }
   ],
   "source": [
    "accuracy_score(y_test,pred_y_test)"
   ]
  },
  {
   "cell_type": "code",
   "execution_count": 29,
   "id": "a6e8d4b3",
   "metadata": {},
   "outputs": [
    {
     "data": {
      "text/plain": [
       "0.8621094547682254"
      ]
     },
     "execution_count": 29,
     "metadata": {},
     "output_type": "execute_result"
    }
   ],
   "source": [
    "accuracy_score(y_train,model.predict(x_train))"
   ]
  },
  {
   "cell_type": "code",
   "execution_count": 30,
   "id": "0aaa9749",
   "metadata": {
    "scrolled": true
   },
   "outputs": [
    {
     "data": {
      "text/html": [
       "<div>\n",
       "<style scoped>\n",
       "    .dataframe tbody tr th:only-of-type {\n",
       "        vertical-align: middle;\n",
       "    }\n",
       "\n",
       "    .dataframe tbody tr th {\n",
       "        vertical-align: top;\n",
       "    }\n",
       "\n",
       "    .dataframe thead th {\n",
       "        text-align: right;\n",
       "    }\n",
       "</style>\n",
       "<table border=\"1\" class=\"dataframe\">\n",
       "  <thead>\n",
       "    <tr style=\"text-align: right;\">\n",
       "      <th></th>\n",
       "      <th>饮料冲调</th>\n",
       "      <th>休闲食品</th>\n",
       "      <th>食品礼券</th>\n",
       "      <th>茗茶</th>\n",
       "      <th>粮油调味</th>\n",
       "      <th>地方特产</th>\n",
       "    </tr>\n",
       "  </thead>\n",
       "  <tbody>\n",
       "    <tr>\n",
       "      <th>饮料冲调</th>\n",
       "      <td>929</td>\n",
       "      <td>4</td>\n",
       "      <td>0</td>\n",
       "      <td>11</td>\n",
       "      <td>6</td>\n",
       "      <td>17</td>\n",
       "    </tr>\n",
       "    <tr>\n",
       "      <th>休闲食品</th>\n",
       "      <td>13</td>\n",
       "      <td>1173</td>\n",
       "      <td>15</td>\n",
       "      <td>2</td>\n",
       "      <td>8</td>\n",
       "      <td>163</td>\n",
       "    </tr>\n",
       "    <tr>\n",
       "      <th>食品礼券</th>\n",
       "      <td>5</td>\n",
       "      <td>14</td>\n",
       "      <td>335</td>\n",
       "      <td>1</td>\n",
       "      <td>4</td>\n",
       "      <td>12</td>\n",
       "    </tr>\n",
       "    <tr>\n",
       "      <th>茗茶</th>\n",
       "      <td>23</td>\n",
       "      <td>12</td>\n",
       "      <td>0</td>\n",
       "      <td>2458</td>\n",
       "      <td>31</td>\n",
       "      <td>36</td>\n",
       "    </tr>\n",
       "    <tr>\n",
       "      <th>粮油调味</th>\n",
       "      <td>24</td>\n",
       "      <td>44</td>\n",
       "      <td>14</td>\n",
       "      <td>46</td>\n",
       "      <td>1704</td>\n",
       "      <td>208</td>\n",
       "    </tr>\n",
       "    <tr>\n",
       "      <th>地方特产</th>\n",
       "      <td>20</td>\n",
       "      <td>206</td>\n",
       "      <td>48</td>\n",
       "      <td>58</td>\n",
       "      <td>307</td>\n",
       "      <td>1843</td>\n",
       "    </tr>\n",
       "  </tbody>\n",
       "</table>\n",
       "</div>"
      ],
      "text/plain": [
       "      饮料冲调  休闲食品  食品礼券    茗茶  粮油调味  地方特产\n",
       "饮料冲调   929     4     0    11     6    17\n",
       "休闲食品    13  1173    15     2     8   163\n",
       "食品礼券     5    14   335     1     4    12\n",
       "茗茶      23    12     0  2458    31    36\n",
       "粮油调味    24    44    14    46  1704   208\n",
       "地方特产    20   206    48    58   307  1843"
      ]
     },
     "execution_count": 30,
     "metadata": {},
     "output_type": "execute_result"
    }
   ],
   "source": [
    "# 获取混淆矩阵\n",
    "CM = confusion_matrix(y_test,pred_y_test)\n",
    "CM = pd.DataFrame(CM)\n",
    "CM.index = food_second_map.keys()\n",
    "CM.columns = food_second_map.keys()\n",
    "CM"
   ]
  },
  {
   "cell_type": "markdown",
   "id": "08936ab4",
   "metadata": {},
   "source": [
    "混淆矩阵。"
   ]
  },
  {
   "cell_type": "code",
   "execution_count": 31,
   "id": "bf0b3496",
   "metadata": {
    "scrolled": true
   },
   "outputs": [
    {
     "data": {
      "text/plain": [
       "<AxesSubplot:>"
      ]
     },
     "execution_count": 31,
     "metadata": {},
     "output_type": "execute_result"
    },
    {
     "data": {
      "image/png": "[encoded data removed]",
      "text/plain": [
       "<Figure size 640x480 with 2 Axes>"
      ]
     },
     "metadata": {},
     "output_type": "display_data"
    }
   ],
   "source": [
    "sns.heatmap(CM,annot=True)"
   ]
  },
  {
   "cell_type": "markdown",
   "id": "531be508",
   "metadata": {},
   "source": [
    "用混淆矩阵绘制的热力图。\n",
    "\n",
    "---\n",
    "\n",
    "可以看到模型总体的效果还不错，大约有85左右的精确度。\n",
    "\n",
    "比较容易混淆的是 <粮油调味,地方特产> , <休闲食品,地方特产> 两对组合。\n",
    "\n",
    "---"
   ]
  },
  {
   "cell_type": "markdown",
   "id": "2a7f47f6",
   "metadata": {},
   "source": [
    "<h4>6. 尝试改变参数，例如预处理过程中针对高频词和低频词的处理阈值进行调整，以及对构造矩阵时选取的维度（代码课上选择的是 Top 1000）进行调整，再次尝试在相同的数据集上建模并进行对比，谈谈你的发现与理解</h4>"
   ]
  },
  {
   "cell_type": "code",
   "execution_count": 32,
   "id": "93977fde",
   "metadata": {},
   "outputs": [],
   "source": [
    "# 将我们上述的操作整理为一个函数\n",
    "def mymodel(data,label,top_n=1000,alpha=1,low_freq=10,high_ratio=0.8):\n",
    "    # 设置随机种子\n",
    "    np.random.seed(123)\n",
    "    random.seed(123)\n",
    "    # 训练和测试的下标\n",
    "    train_index,test_index = data_split(list(range(len(data))), 0.8, shuffle=True)\n",
    "    #  根据训练集的粗加工结果得到top词汇\n",
    "    data_train = data[train_index]\n",
    "    data_train_top = get_top_n(data_train,top_n,low_freq,high_ratio) \n",
    "    \n",
    "    # 根据top词汇加工我们的原始文本\n",
    "    data_cut_words = []\n",
    "    for word_list in data:\n",
    "        tem = list(filter(lambda x:x in data_train_top.keys(),word_list))\n",
    "        tem =  [str(item) for item in tem]\n",
    "        data_cut_words.append(' '.join(tem))\n",
    "    \n",
    "    # 转化为文档词频矩阵\n",
    "    cv = CountVectorizer(token_pattern='\\\\b(\\\\w+[\\\\.,]?\\\\w+)\\\\b')\n",
    "    cv_fit = cv.fit_transform(data_cut_words)\n",
    "    \n",
    "    # 最终的训练和测试数据\n",
    "    x_final = cv_fit.toarray()\n",
    "    \n",
    "    x_train = x_final[train_index]\n",
    "    y_train = y[train_index].reshape(-1)\n",
    "    \n",
    "    x_test = x_final[test_index]\n",
    "    y_test = y[test_index].reshape(-1)\n",
    "    # 拟合模型\n",
    "    model = nb.MultinomialNB(alpha=alpha,fit_prior=True) # MultinomialNB 多项分布朴素贝叶斯\n",
    "    model.fit(x_train, y_train)\n",
    "    pred_y_test = model.predict(x_test)\n",
    "    # 获取混淆矩阵\n",
    "    CM = confusion_matrix(y_test,pred_y_test)\n",
    "    CM = pd.DataFrame(CM)\n",
    "    CM.index = food_second_map.keys()\n",
    "    CM.columns = food_second_map.keys()\n",
    "    # 输出测试集正确率和混淆矩阵\n",
    "    return accuracy_score(y_test,pred_y_test),CM"
   ]
  },
  {
   "cell_type": "markdown",
   "id": "5cf37248",
   "metadata": {},
   "source": [
    "下面开始考虑对比不同的参数。\n",
    "\n",
    "如上文所说，我们对food名称分词得到的结果中最高频的词汇出现占比也仅有26%左右，远小于高频词；  \n",
    "同时频数大于10的词汇约有6k个，因此取top1000的时候基本不到考虑低频词的地步。  \n",
    "\n",
    "所以我们先仅考虑对比的参数是top_n 的n和MultinomialNB模型中的alpha参数(也即拉普拉斯平滑的$\\lambda$),  \n"
   ]
  },
  {
   "cell_type": "code",
   "execution_count": 33,
   "id": "88fa5174",
   "metadata": {
    "scrolled": true
   },
   "outputs": [
    {
     "name": "stdout",
     "output_type": "stream",
     "text": [
      "--------------------------------------------------\n",
      "当top_n：500, alpha：1e-10时，模型准确率为84.3475%\n",
      "当top_n：500, alpha：1时，模型准确率为84.3271%\n",
      "当top_n：500, alpha：2时，模型准确率为84.2454%\n",
      "当top_n：500, alpha：3时，模型准确率为84.1535%\n",
      "--------------------------------------------------\n",
      "当top_n：1000, alpha：1e-10时，模型准确率为86.216%\n",
      "当top_n：1000, alpha：1时，模型准确率为86.1956%\n",
      "当top_n：1000, alpha：2时，模型准确率为86.0731%\n",
      "当top_n：1000, alpha：3时，模型准确率为86.022%\n",
      "--------------------------------------------------\n",
      "当top_n：1500, alpha：1e-10时，模型准确率为87.3187%\n",
      "当top_n：1500, alpha：1时，模型准确率为87.1349%\n",
      "当top_n：1500, alpha：2时，模型准确率为87.0635%\n",
      "当top_n：1500, alpha：3时，模型准确率为86.9716%\n",
      "--------------------------------------------------\n",
      "当top_n：2000, alpha：1e-10时，模型准确率为87.8599%\n",
      "当top_n：2000, alpha：1时，模型准确率为87.625%\n",
      "当top_n：2000, alpha：2时，模型准确率为87.4617%\n",
      "当top_n：2000, alpha：3时，模型准确率为87.5536%\n",
      "--------------------------------------------------\n"
     ]
    }
   ],
   "source": [
    "n_list = [500,1000,1500,2000]\n",
    "alpha_list = [1e-10,1,2,3]\n",
    "for n in n_list:\n",
    "    print('-'*50)\n",
    "    for alpha in alpha_list:\n",
    "        acu,cm = mymodel(x,y,top_n=n,alpha=alpha,low_freq=10,high_ratio=0.8)\n",
    "        print('当top_n：{}, alpha：{}时，模型准确率为{}%'.format(n, alpha, int(acu * 1000000) / 10000))  \n",
    "print('-'*50)"
   ]
  },
  {
   "cell_type": "markdown",
   "id": "527cfe41",
   "metadata": {},
   "source": [
    "从上面的结果来看，  \n",
    "top_n对模型影响较大，越大模型效果越好；  \n",
    "alpha对模型影响较小，大体上来说越小模型效果越好，当然这一点应该和数据集本身的构成相关。"
   ]
  },
  {
   "cell_type": "code",
   "execution_count": 34,
   "id": "43283137",
   "metadata": {},
   "outputs": [
    {
     "name": "stdout",
     "output_type": "stream",
     "text": [
      "当top_n：500, alpha：1时，模型准确率为84.3271%\n",
      "当top_n：1000, alpha：1时，模型准确率为86.1956%\n",
      "当top_n：1500, alpha：1时，模型准确率为87.1349%\n",
      "当top_n：2000, alpha：1时，模型准确率为87.625%\n",
      "当top_n：2500, alpha：1时，模型准确率为88.2785%\n",
      "当top_n：3000, alpha：1时，模型准确率为88.6461%\n",
      "当top_n：3500, alpha：1时，模型准确率为88.9932%\n",
      "当top_n：4000, alpha：1时，模型准确率为89.2178%\n",
      "当top_n：4500, alpha：1时，模型准确率为89.3199%\n",
      "筛选后的分词数为4884,少于输入的top_n\n",
      "当top_n：5000, alpha：1时，模型准确率为89.4425%\n",
      "筛选后的分词数为4884,少于输入的top_n\n",
      "当top_n：5500, alpha：1时，模型准确率为89.4425%\n"
     ]
    }
   ],
   "source": [
    "n_list = list(range(500,6000,500))\n",
    "for n in n_list:\n",
    "    acu,cm = mymodel(x,y,top_n=n,alpha=1,low_freq=10,high_ratio=0.8)\n",
    "    print('当top_n：{}, alpha：{}时，模型准确率为{}%'.format(n, 1, int(acu * 1000000) / 10000))  "
   ]
  },
  {
   "cell_type": "markdown",
   "id": "9cf93082",
   "metadata": {},
   "source": [
    "我们令alpha为1，并看看top_n大致为多少时效果最好。\n",
    "\n",
    "结果发现效果最好的是把所有通过筛选的词汇都列入模型考虑。也即发现top_n越大效果越好，感觉这有点奇怪，但是也说的通。\n",
    "\n",
    "毕竟训练集和测试集都是从数据集中随机取得的，两者的特征不会存在太大差异，因此选择更多的特诊来帮我们预测确实可能得到更好的效果。"
   ]
  },
  {
   "cell_type": "markdown",
   "id": "ec9c1c46",
   "metadata": {},
   "source": [
    "---"
   ]
  },
  {
   "cell_type": "markdown",
   "id": "72b5d0ad",
   "metadata": {},
   "source": [
    "我们接下来限定top_n ，看看low_freq对模型的影响。"
   ]
  },
  {
   "cell_type": "code",
   "execution_count": 35,
   "id": "27ce451e",
   "metadata": {},
   "outputs": [
    {
     "name": "stdout",
     "output_type": "stream",
     "text": [
      "当top_n：8000, low_freq：0时，模型准确率为90.147%\n",
      "\n",
      "当top_n：8000, low_freq：3时，模型准确率为90.147%\n",
      "\n",
      "筛选后的分词数为7443,少于输入的top_n\n",
      "当top_n：8000, low_freq：5时，模型准确率为90.0653%\n",
      "\n",
      "筛选后的分词数为5677,少于输入的top_n\n",
      "当top_n：8000, low_freq：8时，模型准确率为89.6365%\n",
      "\n",
      "筛选后的分词数为4884,少于输入的top_n\n",
      "当top_n：8000, low_freq：10时，模型准确率为89.4425%\n",
      "\n",
      "筛选后的分词数为2177,少于输入的top_n\n",
      "当top_n：8000, low_freq：30时，模型准确率为87.9518%\n",
      "\n"
     ]
    }
   ],
   "source": [
    "low_freq_list = [0,3,5,8,10,30]\n",
    "\n",
    "for low_freq in low_freq_list:\n",
    "    acu,cm = mymodel(x,y,top_n=8000,alpha=1,low_freq=low_freq,high_ratio=0.8)\n",
    "    print('当top_n：{}, low_freq：{}时，模型准确率为{}%'.format(8000, low_freq, int(acu * 1000000) / 10000))  \n",
    "    print('')"
   ]
  },
  {
   "cell_type": "markdown",
   "id": "d4b4039f",
   "metadata": {},
   "source": [
    "前两条输出的一样，是因为这两条本质是一个模型。\n",
    "\n",
    "后面的每一条都会输出“筛选后的分词数为4884,少于输入的top_n”这句提示语，表明我们的模型把筛选后的选有分词都纳入了考虑，可以看到即使是频数非常低的词汇也对我们的预测有帮助。"
   ]
  },
  {
   "cell_type": "code",
   "execution_count": 36,
   "id": "b3c6de1a",
   "metadata": {},
   "outputs": [
    {
     "name": "stdout",
     "output_type": "stream",
     "text": [
      "当top_n：4000, high_ratio：0.25时，模型准确率为89.0136%\n",
      "当top_n：4000, high_ratio：0.22时，模型准确率为88.9115%\n",
      "当top_n：4000, high_ratio：0.2时，模型准确率为88.9115%\n"
     ]
    }
   ],
   "source": [
    "high_ratio_list = [0.25,0.22,0.2]\n",
    "\n",
    "for high_ratio in high_ratio_list:\n",
    "    acu,cm = mymodel(x,y,top_n=4000,alpha=1,low_freq=10,high_ratio=high_ratio)\n",
    "    print('当top_n：{}, high_ratio：{}时，模型准确率为{}%'.format(4000, high_ratio, int(acu * 1000000) / 10000)) "
   ]
  },
  {
   "cell_type": "markdown",
   "id": "885108b6",
   "metadata": {},
   "source": [
    "至于high_ratio，鉴于我们分词结果中出现最频繁的词汇也仅出现了27%左右，我认为把high_ratio设定到20%以下未免有点太丧心病狂。\n",
    "\n",
    "不过我们还是试了一下，发现舍弃一些高频词确实对模型效果有破坏。\n",
    "\n",
    "至于后两个结果输出相同，这是因为没有词汇的频率在0.2-0.22之间，因此后两个模型其实相同。"
   ]
  },
  {
   "cell_type": "markdown",
   "id": "f8f2bd1e",
   "metadata": {},
   "source": [
    "全部数据集分词的结果中前四个为 {特产:13276,零食：10827,茶叶：8219,500g：5802}   \n",
    "而数据一共有48970条,也即四者的占比分别为27.1%、22.1%、16.8%、11.8%，\n",
    "  \n",
    "因此有我们最后两个结果的准确率相同，因为就是同一个模型，同时这两者与前一的区别仅在与第一个模型多考虑了'零食'这一分词特征。\n"
   ]
  }
 ],
 "metadata": {
  "kernelspec": {
   "display_name": "Python 3 (ipykernel)",
   "language": "python",
   "name": "python3"
  },
  "language_info": {
   "codemirror_mode": {
    "name": "ipython",
    "version": 3
   },
   "file_extension": ".py",
   "mimetype": "text/x-python",
   "name": "python",
   "nbconvert_exporter": "python",
   "pygments_lexer": "ipython3",
   "version": "3.9.13"
  }
 },
 "nbformat": 4,
 "nbformat_minor": 5
}
